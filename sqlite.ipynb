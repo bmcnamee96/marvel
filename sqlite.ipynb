{
 "cells": [
  {
   "cell_type": "code",
   "execution_count": 1,
   "id": "66f26476",
   "metadata": {},
   "outputs": [],
   "source": [
    "import sqlite3\n",
    "\n",
    "# This will create an empty SQLite database file called \"marvel.db\" if it doesn't exist.\n",
    "conn = sqlite3.connect('marvel.db')\n",
    "\n",
    "conn.close()"
   ]
  },
  {
   "cell_type": "code",
   "execution_count": 2,
   "id": "12324904",
   "metadata": {},
   "outputs": [
    {
     "name": "stdout",
     "output_type": "stream",
     "text": [
      "Table 'stats' created successfully in marvel.db\n"
     ]
    }
   ],
   "source": [
    "db_filename = 'marvel.db'\n",
    "\n",
    "# Connect to the database\n",
    "conn = sqlite3.connect(db_filename)\n",
    "cursor = conn.cursor()\n",
    "\n",
    "# Create the \"stats\" table if it doesn't already exist.\n",
    "# Adjust the column names and types as needed.\n",
    "create_table_sql = \"\"\"\n",
    "CREATE TABLE IF NOT EXISTS stats (\n",
    "    game_id INTEGER,\n",
    "    Player TEXT,\n",
    "    Rank TEXT,\n",
    "    KDA TEXT,\n",
    "    Damage TEXT,\n",
    "    \"Dmg Taken\" TEXT,\n",
    "    Healing TEXT,\n",
    "    \"Heroes Played\" TEXT,\n",
    "    \"Time Played\" TEXT\n",
    ");\n",
    "\"\"\"\n",
    "\n",
    "cursor.execute(create_table_sql)\n",
    "conn.commit()\n",
    "conn.close()\n",
    "\n",
    "print(\"Table 'stats' created successfully in\", db_filename)"
   ]
  },
  {
   "cell_type": "code",
   "execution_count": null,
   "id": "7ae5a0b9",
   "metadata": {},
   "outputs": [],
   "source": [
    "db_filename = 'marvel.db'\n",
    "\n",
    "# Connect to the database\n",
    "conn = sqlite3.connect(db_filename)\n",
    "cursor = conn.cursor()\n",
    "\n",
    "# Create the \"stats\" table if it doesn't already exist.\n",
    "# Adjust the column names and types as needed.\n",
    "create_table_sql = \"\"\"\n",
    "CREATE TABLE IF NOT EXISTS matches (\n",
    "    game_id INTEGER,\n",
    "\n",
    ");\n",
    "\"\"\"\n",
    "\n",
    "cursor.execute(create_table_sql)\n",
    "conn.commit()\n",
    "conn.close()\n",
    "\n",
    "print(\"Table 'matchees' created successfully in\", db_filename)"
   ]
  },
  {
   "cell_type": "code",
   "execution_count": 11,
   "id": "c14a746b",
   "metadata": {},
   "outputs": [
    {
     "name": "stdout",
     "output_type": "stream",
     "text": [
      "Deleted the first row from the matches table.\n"
     ]
    }
   ],
   "source": [
    "db_filename = 'marvel.db'\n",
    "conn = sqlite3.connect(db_filename)\n",
    "cursor = conn.cursor()\n",
    "\n",
    "# Delete the two rows with the smallest game_id values (the two oldest matches)\n",
    "cursor.execute(\"\"\"\n",
    "    DELETE FROM matches\n",
    "    WHERE game_id IN (\n",
    "        SELECT game_id\n",
    "        FROM matches\n",
    "        ORDER BY game_id DESC\n",
    "        LIMIT 1\n",
    "    )\n",
    "\"\"\")\n",
    "conn.commit()\n",
    "conn.close()\n",
    "print(\"Deleted the first row from the matches table.\")\n"
   ]
  },
  {
   "cell_type": "code",
   "execution_count": 9,
   "id": "e9bd7b34",
   "metadata": {},
   "outputs": [
    {
     "name": "stdout",
     "output_type": "stream",
     "text": [
      "Table 'stats' deleted successfully from marvel.db.\n"
     ]
    }
   ],
   "source": [
    "db_filename = 'marvel.db'\n",
    "table_to_delete = 'stats'  # Replace with the name of the table you want to delete\n",
    "\n",
    "# Connect to the database\n",
    "conn = sqlite3.connect(db_filename)\n",
    "cursor = conn.cursor()\n",
    "\n",
    "# Execute the SQL command to drop the table if it exists.\n",
    "cursor.execute(f\"DROP TABLE IF EXISTS {table_to_delete}\")\n",
    "\n",
    "# Commit the changes and close the connection.\n",
    "conn.commit()\n",
    "conn.close()\n",
    "\n",
    "print(f\"Table '{table_to_delete}' deleted successfully from {db_filename}.\")"
   ]
  },
  {
   "cell_type": "code",
   "execution_count": 3,
   "id": "c6a4894b",
   "metadata": {},
   "outputs": [
    {
     "ename": "OperationalError",
     "evalue": "no such table: matches",
     "output_type": "error",
     "traceback": [
      "\u001b[1;31m---------------------------------------------------------------------------\u001b[0m",
      "\u001b[1;31mOperationalError\u001b[0m                          Traceback (most recent call last)",
      "\u001b[1;32m~\\AppData\\Local\\Temp\\ipykernel_3352\\3942054180.py\u001b[0m in \u001b[0;36m<module>\u001b[1;34m\u001b[0m\n\u001b[0;32m      4\u001b[0m \u001b[1;33m\u001b[0m\u001b[0m\n\u001b[0;32m      5\u001b[0m \u001b[1;31m# Query to get the most recent Replay ID, ordering by game_id in descending order.\u001b[0m\u001b[1;33m\u001b[0m\u001b[1;33m\u001b[0m\u001b[0m\n\u001b[1;32m----> 6\u001b[1;33m cursor.execute(\"\"\"\n\u001b[0m\u001b[0;32m      7\u001b[0m     \u001b[0mSELECT\u001b[0m \u001b[1;33m*\u001b[0m\u001b[1;33m\u001b[0m\u001b[1;33m\u001b[0m\u001b[0m\n\u001b[0;32m      8\u001b[0m     \u001b[0mFROM\u001b[0m \u001b[0mmatches\u001b[0m\u001b[1;33m\u001b[0m\u001b[1;33m\u001b[0m\u001b[0m\n",
      "\u001b[1;31mOperationalError\u001b[0m: no such table: matches"
     ]
    }
   ],
   "source": [
    "db_filename = 'marvel.db'\n",
    "conn = sqlite3.connect(db_filename)\n",
    "cursor = conn.cursor()\n",
    "\n",
    "# Query to get the most recent Replay ID, ordering by game_id in descending order.\n",
    "cursor.execute(\"\"\"\n",
    "    SELECT *\n",
    "    FROM matches\n",
    "    ORDER BY game_id DESC \n",
    "    LIMIT 1\n",
    "\"\"\")\n",
    "\n",
    "result = cursor.fetchone()\n",
    "if result:\n",
    "    top_replay_id = result[0]\n",
    "    print(\"Top Replay ID:\", top_replay_id)\n",
    "else:\n",
    "    print(\"No records found.\")\n",
    "\n",
    "conn.close()"
   ]
  },
  {
   "cell_type": "code",
   "execution_count": null,
   "id": "f3efb858",
   "metadata": {},
   "outputs": [],
   "source": []
  }
 ],
 "metadata": {
  "kernelspec": {
   "display_name": "Python 3 (ipykernel)",
   "language": "python",
   "name": "python3"
  },
  "language_info": {
   "codemirror_mode": {
    "name": "ipython",
    "version": 3
   },
   "file_extension": ".py",
   "mimetype": "text/x-python",
   "name": "python",
   "nbconvert_exporter": "python",
   "pygments_lexer": "ipython3",
   "version": "3.9.13"
  }
 },
 "nbformat": 4,
 "nbformat_minor": 5
}
